{
 "cells": [
  {
   "attachments": {},
   "cell_type": "markdown",
   "metadata": {},
   "source": [
    "# For saving images as landmarks\n",
    "- take in all images and labels\n",
    "- modify some images to generate some modified data\n",
    "\n",
    "- create a pandas dataframe with:\n",
    "    - one row per image\n",
    "    - 63 columns for the 21 (x, y, z) (float value)\n",
    "    - + one more column for the label (0-26 integer)\n",
    "\n",
    "- iterate over image-label pair\n",
    "    - generate landmarks with mediapipe\n",
    "    - save to row in dataframe\n",
    "\n",
    "- save dataframe to .csv file"
   ]
  },
  {
   "attachments": {},
   "cell_type": "markdown",
   "metadata": {},
   "source": [
    "# reading csv data to train model\n",
    "\n",
    "- read the .csv file into a pandas dataframe and save data into two numpy arrays, one with landmarks, one with labels\n",
    "    - could augment datapoints, but something to try later\n",
    "- build model architecture\n",
    "- train model on dataset\n",
    "- test with real images"
   ]
  },
  {
   "attachments": {},
   "cell_type": "markdown",
   "metadata": {},
   "source": [
    "# For live predicting using hand landmark model\n",
    "- process image with mediapipe hands to get landmarks\n",
    "\n",
    "- pass in landmarks into formatting function located in ai model python module\n",
    "    - depends on the model architecture, but probably just a single dimensional array as input\n",
    "\n",
    "- run prediction based on landmarks\n",
    "\n",
    "- return prediction to the WebCam.py\n",
    "\n",
    "- continue with control logic as before"
   ]
  }
 ],
 "metadata": {
  "language_info": {
   "name": "python"
  },
  "orig_nbformat": 4
 },
 "nbformat": 4,
 "nbformat_minor": 2
}
