{
 "cells": [
  {
   "cell_type": "markdown",
   "metadata": {},
   "source": [
    "Tensor Flow CNN Done by Liam"
   ]
  },
  {
   "cell_type": "markdown",
   "metadata": {},
   "source": [
    "To create a TensorFlow backend sign language recognizer with live camera capabilities in Python, you will need to follow these steps:\n",
    "\n",
    "1. Collect and label a dataset of hand signs. This can be done by taking pictures of people making different hand signs and labeling each image with the corresponding hand sign.\n",
    "\n",
    "2. Preprocess the dataset. This may involve resizing the images, converting them to grayscale, and normalizing the pixel values.\n",
    "\n",
    "3. Split the dataset into training and test sets. You will use the training set to train the model, and the test set to evaluate the model's performance.\n",
    "\n",
    "4. Build the model. You can use a convolutional neural network (CNN) to classify the hand signs. You will need to define the model architecture, compile the model, and then train it using the training set.\n",
    "\n",
    "5. Evaluate the model. Once the model is trained, you can use the test set to evaluate its performance. You can use metrics such as accuracy, precision, and recall to assess how well the model is able to classify the hand signs.\n",
    "\n",
    "6. Fine-tune the model. If the model's performance is not satisfactory, you can try fine-tuning the model by adjusting the hyperparameters, adding or removing layers, or using a different optimization algorithm.\n",
    "\n",
    "7. Use the OpenCV library to capture live video from the camera. You will need to import the cv2 module and use the cv2.VideoCapture function to open the camera.\n",
    "\n",
    "8. Preprocess the live video frames. You will need to resize the frames and convert them to grayscale, just as you did with the images in the dataset.\n",
    "\n",
    "9. Use the trained model to classify the live video frames. You can use the model's predict method to classify each frame as a specific hand sign.\n",
    "\n",
    "10. Display the live video feed and the predicted hand sign on the screen. You can use the cv2.imshow function to display the video feed and the cv2.putText function to display the predicted hand sign on top of the video."
   ]
  },
  {
   "cell_type": "code",
   "execution_count": 1,
   "metadata": {},
   "outputs": [],
   "source": [
    "#Basic Imports\n",
    "import numpy as np\n",
    "import pandas as pd\n",
    "import os \n",
    "import matplotlib.pyplot as plt\n",
    "import seaborn as sns\n",
    "import keras\n",
    "from keras.models import Sequential\n",
    "from keras.layers import Dense, Conv2D , MaxPool2D , Flatten , Dropout , BatchNormalization\n",
    "from keras.preprocessing.image import ImageDataGenerator\n",
    "from sklearn.model_selection import train_test_split\n",
    "from sklearn.metrics import classification_report,confusion_matrix\n",
    "from keras.callbacks import ReduceLROnPlateau\n",
    "\n",
    "#Import Data Set\n",
    "train_set, test_set = pd.read_csv('mnist_handsigns/sign_mnist_train.csv'), pd.read_csv('mnist_handsigns/sign_mnist_test.csv')\n"
   ]
  },
  {
   "cell_type": "markdown",
   "metadata": {},
   "source": [
    "Preprocessing data"
   ]
  },
  {
   "cell_type": "code",
   "execution_count": 2,
   "metadata": {},
   "outputs": [
    {
     "data": {
      "image/png": "[encoded data removed]",
      "text/plain": [
       "<Figure size 720x720 with 10 Axes>"
      ]
     },
     "metadata": {
      "needs_background": "light"
     },
     "output_type": "display_data"
    }
   ],
   "source": [
    "#Seperate the labels we'll be predicting and the grey scaled images\n",
    "\n",
    "train_labels = train_set['label']\n",
    "test_labels = test_set['label']\n",
    "\n",
    "train_set.drop(columns = 'label', inplace = True)\n",
    "test_set.drop(columns='label', inplace = True)\n",
    "test_set.head()              \n",
    "\n",
    "#Transfor multi-class labels to binary labels\n",
    "from sklearn.preprocessing import LabelBinarizer\n",
    "label_bin = LabelBinarizer()\n",
    "train_labels = label_bin.fit_transform(train_labels)\n",
    "test_labels = label_bin.fit_transform(test_labels)\n",
    "\n",
    "train_set = train_set.values    \n",
    "test_set = test_set.values \n",
    "\n",
    "train_set = train_set/255\n",
    "test_set = test_set/255\n",
    "\n",
    "#Reshape 1-D to 3-D\n",
    "train_set = train_set.reshape(-1,28,28,1)\n",
    "test_set = test_set.reshape(-1,28,28,1)\n",
    "\n",
    "#Rotate, blur, shift, zoom images\n",
    "datagen = ImageDataGenerator(\n",
    "        featurewise_center=False,  # set input mean to 0 over the dataset\n",
    "        samplewise_center=False,  # set each sample mean to 0\n",
    "        featurewise_std_normalization=False,  # divide inputs by std of the dataset\n",
    "        samplewise_std_normalization=False,  # divide each input by its std\n",
    "        zca_whitening=False,  # apply ZCA whitening\n",
    "        rotation_range=20,  # randomly rotate images in the range (degrees, 0 to 180)\n",
    "        zoom_range = 0.1, # Randomly zoom image \n",
    "        width_shift_range=0.1,  # randomly shift images horizontally (fraction of total width)\n",
    "        height_shift_range=0.1,  # randomly shift images vertically (fraction of total height)\n",
    "        horizontal_flip=False,  # randomly flip images\n",
    "        vertical_flip=False)  # randomly flip images\n",
    "datagen.fit(train_set)\n",
    "\n",
    "f, ax = plt.subplots(2,5) \n",
    "f.set_size_inches(10, 10)\n",
    "k = 0\n",
    "for i in range(2):\n",
    "    for j in range(5):\n",
    "        ax[i,j].imshow(train_set[k].reshape(28, 28) , cmap = \"gray\")\n",
    "        k += 1\n",
    "    plt.tight_layout() "
   ]
  },
  {
   "cell_type": "markdown",
   "metadata": {},
   "source": [
    "CNN"
   ]
  },
  {
   "cell_type": "code",
   "execution_count": 3,
   "metadata": {},
   "outputs": [
    {
     "name": "stdout",
     "output_type": "stream",
     "text": [
      "Model: \"sequential\"\n",
      "_________________________________________________________________\n",
      "Layer (type)                 Output Shape              Param #   \n",
      "=================================================================\n",
      "conv2d (Conv2D)              (None, 28, 28, 75)        750       \n",
      "_________________________________________________________________\n",
      "batch_normalization (BatchNo (None, 28, 28, 75)        300       \n",
      "_________________________________________________________________\n",
      "max_pooling2d (MaxPooling2D) (None, 14, 14, 75)        0         \n",
      "_________________________________________________________________\n",
      "conv2d_1 (Conv2D)            (None, 14, 14, 50)        33800     \n",
      "_________________________________________________________________\n",
      "dropout (Dropout)            (None, 14, 14, 50)        0         \n",
      "_________________________________________________________________\n",
      "batch_normalization_1 (Batch (None, 14, 14, 50)        200       \n",
      "_________________________________________________________________\n",
      "max_pooling2d_1 (MaxPooling2 (None, 7, 7, 50)          0         \n",
      "_________________________________________________________________\n",
      "conv2d_2 (Conv2D)            (None, 7, 7, 25)          11275     \n",
      "_________________________________________________________________\n",
      "batch_normalization_2 (Batch (None, 7, 7, 25)          100       \n",
      "_________________________________________________________________\n",
      "max_pooling2d_2 (MaxPooling2 (None, 4, 4, 25)          0         \n",
      "_________________________________________________________________\n",
      "flatten (Flatten)            (None, 400)               0         \n",
      "_________________________________________________________________\n",
      "dense (Dense)                (None, 512)               205312    \n",
      "_________________________________________________________________\n",
      "dropout_1 (Dropout)          (None, 512)               0         \n",
      "_________________________________________________________________\n",
      "dense_1 (Dense)              (None, 24)                12312     \n",
      "=================================================================\n",
      "Total params: 264,049\n",
      "Trainable params: 263,749\n",
      "Non-trainable params: 300\n",
      "_________________________________________________________________\n",
      "Epoch 1/20\n",
      "215/215 [==============================] - 57s 263ms/step - loss: 1.2089 - accuracy: 0.6219 - val_loss: 5.7092 - val_accuracy: 0.0608\n",
      "Epoch 2/20\n",
      "215/215 [==============================] - 55s 257ms/step - loss: 0.3132 - accuracy: 0.8933 - val_loss: 4.4509 - val_accuracy: 0.1778\n",
      "Epoch 3/20\n",
      "215/215 [==============================] - 51s 237ms/step - loss: 0.1613 - accuracy: 0.9464 - val_loss: 0.3579 - val_accuracy: 0.8740\n",
      "Epoch 4/20\n",
      "215/215 [==============================] - 49s 228ms/step - loss: 0.1057 - accuracy: 0.9649 - val_loss: 0.0468 - val_accuracy: 0.9848\n",
      "Epoch 5/20\n",
      "215/215 [==============================] - 57s 264ms/step - loss: 0.0731 - accuracy: 0.9759 - val_loss: 0.0238 - val_accuracy: 0.9944\n",
      "Epoch 6/20\n",
      "215/215 [==============================] - 48s 222ms/step - loss: 0.0587 - accuracy: 0.9810 - val_loss: 0.0488 - val_accuracy: 0.9830\n",
      "Epoch 7/20\n",
      "215/215 [==============================] - ETA: 0s - loss: 0.0518 - accuracy: 0.9825\n",
      "Epoch 00007: ReduceLROnPlateau reducing learning rate to 0.0005000000237487257.\n",
      "215/215 [==============================] - 58s 270ms/step - loss: 0.0518 - accuracy: 0.9825 - val_loss: 0.1920 - val_accuracy: 0.9430\n",
      "Epoch 8/20\n",
      "215/215 [==============================] - 51s 240ms/step - loss: 0.0314 - accuracy: 0.9898 - val_loss: 0.0222 - val_accuracy: 0.9925\n",
      "Epoch 9/20\n",
      "215/215 [==============================] - 53s 247ms/step - loss: 0.0225 - accuracy: 0.9925 - val_loss: 0.0050 - val_accuracy: 0.9978\n",
      "Epoch 10/20\n",
      "215/215 [==============================] - 53s 245ms/step - loss: 0.0224 - accuracy: 0.9934 - val_loss: 0.0112 - val_accuracy: 0.9964\n",
      "Epoch 11/20\n",
      "215/215 [==============================] - ETA: 0s - loss: 0.0202 - accuracy: 0.9934\n",
      "Epoch 00011: ReduceLROnPlateau reducing learning rate to 0.0002500000118743628.\n",
      "215/215 [==============================] - 54s 250ms/step - loss: 0.0202 - accuracy: 0.9934 - val_loss: 0.0396 - val_accuracy: 0.9900\n",
      "Epoch 12/20\n",
      "215/215 [==============================] - 51s 238ms/step - loss: 0.0143 - accuracy: 0.9953 - val_loss: 0.0048 - val_accuracy: 0.9993\n",
      "Epoch 13/20\n",
      "215/215 [==============================] - 48s 224ms/step - loss: 0.0134 - accuracy: 0.9958 - val_loss: 0.0286 - val_accuracy: 0.9872\n",
      "Epoch 14/20\n",
      "215/215 [==============================] - ETA: 0s - loss: 0.0144 - accuracy: 0.9955\n",
      "Epoch 00014: ReduceLROnPlateau reducing learning rate to 0.0001250000059371814.\n",
      "215/215 [==============================] - 52s 242ms/step - loss: 0.0144 - accuracy: 0.9955 - val_loss: 0.0036 - val_accuracy: 0.9989\n",
      "Epoch 15/20\n",
      "215/215 [==============================] - 47s 219ms/step - loss: 0.0107 - accuracy: 0.9973 - val_loss: 0.0012 - val_accuracy: 1.0000\n",
      "Epoch 16/20\n",
      "215/215 [==============================] - 58s 268ms/step - loss: 0.0098 - accuracy: 0.9975 - val_loss: 0.0011 - val_accuracy: 1.0000\n",
      "Epoch 17/20\n",
      "215/215 [==============================] - ETA: 0s - loss: 0.0091 - accuracy: 0.9977\n",
      "Epoch 00017: ReduceLROnPlateau reducing learning rate to 6.25000029685907e-05.\n",
      "215/215 [==============================] - 56s 261ms/step - loss: 0.0091 - accuracy: 0.9977 - val_loss: 9.1516e-04 - val_accuracy: 1.0000\n",
      "Epoch 18/20\n",
      "215/215 [==============================] - 57s 263ms/step - loss: 0.0090 - accuracy: 0.9972 - val_loss: 7.4450e-04 - val_accuracy: 1.0000\n",
      "Epoch 19/20\n",
      "215/215 [==============================] - ETA: 0s - loss: 0.0087 - accuracy: 0.9974\n",
      "Epoch 00019: ReduceLROnPlateau reducing learning rate to 3.125000148429535e-05.\n",
      "215/215 [==============================] - 60s 280ms/step - loss: 0.0087 - accuracy: 0.9974 - val_loss: 0.0014 - val_accuracy: 1.0000\n",
      "Epoch 20/20\n",
      "215/215 [==============================] - 62s 291ms/step - loss: 0.0079 - accuracy: 0.9981 - val_loss: 8.9699e-04 - val_accuracy: 1.0000\n",
      "225/225 [==============================] - 2s 10ms/step - loss: 8.9699e-04 - accuracy: 1.0000\n",
      "Accuracy of the model is -  100.0 %\n"
     ]
    }
   ],
   "source": [
    "#Training the model\n",
    "learning_rate_reduction = ReduceLROnPlateau(monitor='val_accuracy', patience = 2, verbose=1,factor=0.5, min_lr=0.00001)\n",
    "\n",
    "model = Sequential()\n",
    "model.add(Conv2D(75 , (3,3) , strides = 1 , padding = 'same' , activation = 'relu' , input_shape = (28,28,1)))\n",
    "model.add(BatchNormalization())\n",
    "model.add(MaxPool2D((2,2) , strides = 2 , padding = 'same'))\n",
    "model.add(Conv2D(50 , (3,3) , strides = 1 , padding = 'same' , activation = 'relu'))\n",
    "model.add(Dropout(0.2))\n",
    "model.add(BatchNormalization())\n",
    "model.add(MaxPool2D((2,2) , strides = 2 , padding = 'same'))\n",
    "model.add(Conv2D(25 , (3,3) , strides = 1 , padding = 'same' , activation = 'relu'))\n",
    "model.add(BatchNormalization())\n",
    "model.add(MaxPool2D((2,2) , strides = 2 , padding = 'same'))\n",
    "model.add(Flatten())\n",
    "model.add(Dense(units = 512 , activation = 'relu'))\n",
    "model.add(Dropout(0.3))\n",
    "model.add(Dense(units = 24 , activation = 'softmax'))\n",
    "model.compile(optimizer = 'adam' , loss = 'categorical_crossentropy' , metrics = ['accuracy'])\n",
    "model.summary()\n",
    "\n",
    "history = model.fit(datagen.flow(train_set,train_labels, batch_size = 128) ,epochs = 20 , validation_data = (test_set, test_labels) , callbacks = [learning_rate_reduction])\n",
    "\n",
    "print(\"Accuracy of the model is - \" , model.evaluate(test_set,test_labels)[1]*100 , \"%\")"
   ]
  }
 ],
 "metadata": {
  "kernelspec": {
   "display_name": "Python 3.9.13 ('base')",
   "language": "python",
   "name": "python3"
  },
  "language_info": {
   "codemirror_mode": {
    "name": "ipython",
    "version": 3
   },
   "file_extension": ".py",
   "mimetype": "text/x-python",
   "name": "python",
   "nbconvert_exporter": "python",
   "pygments_lexer": "ipython3",
   "version": "3.8.8"
  },
  "orig_nbformat": 4,
  "vscode": {
   "interpreter": {
    "hash": "6e43461d81c740b4024a1ce36edd4e8872daf319e0abe7c54180a4e379e103cc"
   }
  }
 },
 "nbformat": 4,
 "nbformat_minor": 2
}
